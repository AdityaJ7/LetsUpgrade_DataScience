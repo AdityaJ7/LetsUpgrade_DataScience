{
 "cells": [
  {
   "cell_type": "markdown",
   "metadata": {},
   "source": [
    "# Question 1"
   ]
  },
  {
   "cell_type": "code",
   "execution_count": 2,
   "metadata": {},
   "outputs": [
    {
     "name": "stdout",
     "output_type": "stream",
     "text": [
      "Enter the number: 1\n",
      "Enter the number: 4\n",
      "Enter the number: 6\n",
      "Enter the number: 8\n",
      "Enter the number: 9\n",
      "Enter the number: 5\n",
      "Enter the number: 3\n",
      "Enter the number: 0\n",
      "Enter the number: 21\n",
      "Enter the number: 77\n",
      "[4, 6, 8, 0]\n"
     ]
    }
   ],
   "source": [
    "list_new = list()\n",
    "for _ in range(10):\n",
    "    element = int(input(\"Enter the number: \"))\n",
    "    if element%2==0:\n",
    "        list_new.append(element)\n",
    "print(list_new)"
   ]
  },
  {
   "cell_type": "markdown",
   "metadata": {},
   "source": [
    "# Question 2"
   ]
  },
  {
   "cell_type": "markdown",
   "metadata": {},
   "source": [
    "## List Comprehension "
   ]
  },
  {
   "cell_type": "markdown",
   "metadata": {},
   "source": [
    "List comprehension is a way of creating lists in python by the help of other iterable objects. The list comprehension involves the use of square brackets with loops enclosed inside them, they can also have further conditions applied to them.\n",
    "List comprehension is considered as a more pythonic way of creating lists and is ususally faster than other methods of list creation, also the lines of code are reduced."
   ]
  },
  {
   "cell_type": "markdown",
   "metadata": {},
   "source": [
    "Some example of list comprehension:\n"
   ]
  },
  {
   "cell_type": "markdown",
   "metadata": {},
   "source": [
    "Example 1:\n"
   ]
  },
  {
   "cell_type": "code",
   "execution_count": 4,
   "metadata": {},
   "outputs": [
    {
     "name": "stdout",
     "output_type": "stream",
     "text": [
      "[0, 1, 2, 3, 4, 5, 6, 7, 8, 9]\n"
     ]
    }
   ],
   "source": [
    "list_1 = [element for element in range(10)]\n",
    "print(list_1)"
   ]
  },
  {
   "cell_type": "markdown",
   "metadata": {},
   "source": [
    "Example 2:"
   ]
  },
  {
   "cell_type": "code",
   "execution_count": 5,
   "metadata": {},
   "outputs": [
    {
     "name": "stdout",
     "output_type": "stream",
     "text": [
      "[0, 2, 4, 6, 8]\n"
     ]
    }
   ],
   "source": [
    "list_2 = [element for element in range(10) if element %2==0]\n",
    "print(list_2)"
   ]
  },
  {
   "cell_type": "markdown",
   "metadata": {},
   "source": [
    "# Question 3"
   ]
  },
  {
   "cell_type": "code",
   "execution_count": 6,
   "metadata": {},
   "outputs": [
    {
     "name": "stdout",
     "output_type": "stream",
     "text": [
      "8\n",
      "{1: 1, 2: 4, 3: 9, 4: 16, 5: 25, 6: 36, 7: 49, 8: 64}\n"
     ]
    }
   ],
   "source": [
    "dictionary = dict()\n",
    "n = int(input())\n",
    "for i in range(1, n+1):\n",
    "    dictionary[i] = i*i\n",
    "print(dictionary)"
   ]
  },
  {
   "cell_type": "markdown",
   "metadata": {},
   "source": [
    "# Question 4"
   ]
  },
  {
   "cell_type": "code",
   "execution_count": 3,
   "metadata": {},
   "outputs": [
    {
     "name": "stdout",
     "output_type": "stream",
     "text": [
      "4\n",
      "UP 5\n",
      "DOWN 3\n",
      "LEFT 3\n",
      "RIGHT 2\n",
      "2\n"
     ]
    }
   ],
   "source": [
    "import math\n",
    "steps = int(input())\n",
    "x = 0\n",
    "y = 0\n",
    "for _ in range(steps):\n",
    "    direction,value = input().split(\" \")\n",
    "    if direction == 'UP':\n",
    "        y+=int(value)\n",
    "    elif direction == 'DOWN':\n",
    "        y-=int(value)\n",
    "    elif direction == 'LEFT':\n",
    "        x-=int(value)\n",
    "    elif direction == 'RIGHT':\n",
    "        x+=int(value)\n",
    "distance = math.sqrt(x**2 + y**2)\n",
    "\n",
    "print(int(distance))"
   ]
  }
 ],
 "metadata": {
  "kernelspec": {
   "display_name": "Python 3",
   "language": "python",
   "name": "python3"
  },
  "language_info": {
   "codemirror_mode": {
    "name": "ipython",
    "version": 3
   },
   "file_extension": ".py",
   "mimetype": "text/x-python",
   "name": "python",
   "nbconvert_exporter": "python",
   "pygments_lexer": "ipython3",
   "version": "3.8.6"
  }
 },
 "nbformat": 4,
 "nbformat_minor": 4
}
